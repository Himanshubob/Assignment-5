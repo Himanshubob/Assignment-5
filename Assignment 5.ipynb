{
 "cells": [
  {
   "cell_type": "markdown",
   "id": "9e10921f",
   "metadata": {},
   "source": [
    "# Q1 write a program to accept percentage from the user and display the grade according to the following criteria "
   ]
  },
  {
   "cell_type": "code",
   "execution_count": 4,
   "id": "b6614164",
   "metadata": {},
   "outputs": [
    {
     "name": "stdout",
     "output_type": "stream",
     "text": [
      "pleace enter the your marks109\n",
      "program run again and give the b/w 1to100\n"
     ]
    }
   ],
   "source": [
    "marks=eval(input(\"pleace enter the your marks\"))\n",
    "if marks>90 and marks <=100:\n",
    "    print(\" your grade is A\")\n",
    "elif marks>80 and marks<=90:\n",
    "    print(\"your  grade is B\")\n",
    "elif marks>=60 and marks<=80:\n",
    "    print(\"your grade is C\")\n",
    "elif marks<60:\n",
    "    print(\"your grade is D\")\n",
    "else:\n",
    "    print( \"program run again and give the b/w 1to100\")"
   ]
  },
  {
   "cell_type": "markdown",
   "id": "071bdfb7",
   "metadata": {},
   "source": [
    "# Q2... write a program to accept the cost price of a bike and display the road tax to be paid according to the follwing criteria"
   ]
  },
  {
   "cell_type": "code",
   "execution_count": 2,
   "id": "dbbf5059",
   "metadata": {},
   "outputs": [
    {
     "name": "stdout",
     "output_type": "stream",
     "text": [
      "enter the your cost price in Rs2345\n",
      " you have the 5% tax\n"
     ]
    }
   ],
   "source": [
    "cost_rs=eval(input(\"enter the your cost price in Rs\"))\n",
    "if cost_rs> 0 and cost_rs<=5000:\n",
    "    print(\" you have the 5% tax\")\n",
    "elif cost_rs>5000 and cost_rs<=10000:\n",
    "    print(\"you have the 10% tax\")\n",
    "elif cost_rs>10000:\n",
    "    print(\"you have the 15% tax\")\n",
    "else:\n",
    "    print( \"pleace  the positve price\")"
   ]
  },
  {
   "cell_type": "markdown",
   "id": "7726d17c",
   "metadata": {},
   "source": [
    "# Q3.... accept any  city from the user and display monuments of that city"
   ]
  },
  {
   "cell_type": "code",
   "execution_count": 2,
   "id": "61e4749b",
   "metadata": {},
   "outputs": [
    {
     "name": "stdout",
     "output_type": "stream",
     "text": [
      "  enter the city : jaipur\n",
      "jal mahal is the best place of the jaipur\n"
     ]
    }
   ],
   "source": [
    "city=  str(input(\"  enter the city : \"))\n",
    "if city== \"delhi\":\n",
    "    print(\"Red fort is the best place of delhi:\")\n",
    "elif city==\"agra\":\n",
    "    print(\"Taj mahal is the best place of agra\")\n",
    "elif city==\"jaipur\":\n",
    "    print(\"jal mahal is the best place of the jaipur\")"
   ]
  },
  {
   "cell_type": "markdown",
   "id": "d6fdd513",
   "metadata": {},
   "source": [
    "# Q7,8 Reverse a while loop to display numbers from 10 to 1."
   ]
  },
  {
   "cell_type": "code",
   "execution_count": 6,
   "id": "db57901f",
   "metadata": {},
   "outputs": [
    {
     "name": "stdout",
     "output_type": "stream",
     "text": [
      "enter the number :10\n",
      "10\n",
      "9\n",
      "8\n",
      "7\n",
      "6\n",
      "5\n",
      "4\n",
      "3\n",
      "2\n",
      "1\n"
     ]
    }
   ],
   "source": [
    "n= int( input(\"enter the number :\"))\n",
    "while n>=0:\n",
    "    print(n)\n",
    "    n=n-1\n",
    "    if n==0:\n",
    "        break"
   ]
  },
  {
   "cell_type": "markdown",
   "id": "9c61e13c",
   "metadata": {},
   "source": [
    "# Q6..."
   ]
  },
  {
   "cell_type": "code",
   "execution_count": 1,
   "id": "734a11f7",
   "metadata": {},
   "outputs": [
    {
     "name": "stdout",
     "output_type": "stream",
     "text": [
      "enter the value of n6\n",
      "* \n",
      "* * \n",
      "* * * \n",
      "* * * * \n",
      "* * * * * \n",
      "* * * * * * \n"
     ]
    }
   ],
   "source": [
    "n=int( input( \"enter the value of n\"))\n",
    "i=1\n",
    "while n>=i:\n",
    "    j=1\n",
    "    while i>=j: \n",
    "        \n",
    "        print(\"*\",end=\" \")\n",
    "        j+=1\n",
    "    print()\n",
    "    i+=1\n",
    "            \n",
    "    "
   ]
  },
  {
   "cell_type": "markdown",
   "id": "f49d8b7d",
   "metadata": {},
   "source": [
    "# Q5.. Why and when to use while loop in pythan given a detailed description with example"
   ]
  },
  {
   "cell_type": "code",
   "execution_count": 2,
   "id": "4f9abf97",
   "metadata": {},
   "outputs": [],
   "source": [
    "# \n",
    "# Python while loop is used to run a block code until a certain condition is met"
   ]
  },
  {
   "cell_type": "code",
   "execution_count": 2,
   "id": "6d5a8d48",
   "metadata": {},
   "outputs": [
    {
     "name": "stdout",
     "output_type": "stream",
     "text": [
      "enter the value of n :12\n",
      "1\n",
      "2\n",
      "3\n",
      "4\n",
      "5\n",
      "6\n",
      "7\n",
      "8\n",
      "9\n",
      "10\n",
      "11\n"
     ]
    }
   ],
   "source": [
    "n=eval( input(\"enter the value of n :\"))\n",
    "i=1\n",
    "while i<n:\n",
    "    print (i)\n",
    "    i+=1\n",
    "    \n",
    "        "
   ]
  },
  {
   "cell_type": "code",
   "execution_count": null,
   "id": "1d793d79",
   "metadata": {},
   "outputs": [],
   "source": []
  }
 ],
 "metadata": {
  "kernelspec": {
   "display_name": "Python 3 (ipykernel)",
   "language": "python",
   "name": "python3"
  },
  "language_info": {
   "codemirror_mode": {
    "name": "ipython",
    "version": 3
   },
   "file_extension": ".py",
   "mimetype": "text/x-python",
   "name": "python",
   "nbconvert_exporter": "python",
   "pygments_lexer": "ipython3",
   "version": "3.10.9"
  }
 },
 "nbformat": 4,
 "nbformat_minor": 5
}
